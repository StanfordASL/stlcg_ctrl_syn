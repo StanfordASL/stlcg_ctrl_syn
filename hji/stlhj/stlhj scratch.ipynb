{
 "cells": [
  {
   "cell_type": "code",
   "execution_count": 1,
   "metadata": {},
   "outputs": [],
   "source": [
    "%matplotlib inline\n",
    "import numpy as np\n",
    "import matplotlib.pyplot as plt\n",
    "import torch\n",
    "import scipy.io as sio\n",
    "import sys\n",
    "sys.path.append('../../ctrl_syn')\n",
    "sys.path.append('..')\n",
    "from torch_interpolations.torch_interpolations.multilinear import RegularGridInterpolator\n",
    "from hji_utils import *"
   ]
  },
  {
   "cell_type": "code",
   "execution_count": 2,
   "metadata": {},
   "outputs": [],
   "source": [
    "\n",
    "value = sio.loadmat('../../hji/stlhj/coverage_DoubleInt_test/value.mat');\n",
    "deriv_value = sio.loadmat('../../hji/stlhj/coverage_DoubleInt_test/deriv_value.mat');\n",
    "V = np.flip(value['data'], 5);\n",
    "g = [s[0].flatten() for s in sio.loadmat('../../hji/stlhj/coverage_DoubleInt_test/grid.mat')['grid']];\n",
    "\n",
    "values = torch.tensor(V).float()\n",
    "dV = [torch.tensor(deriv_value['derivC'][i][0]).float() for i in range(5)];\n",
    "points = [torch.from_numpy(g[i].flatten()).float() for i in range(4)] + [torch.from_numpy(np.arange(0,1.05, 0.05)).float()]\n",
    "value_interp = RegularGridInterpolator(points, values)\n",
    "deriv_interp = [RegularGridInterpolator(points, dV[i]) for i in range(5)]\n"
   ]
  },
  {
   "cell_type": "code",
   "execution_count": 2,
   "metadata": {},
   "outputs": [],
   "source": [
    "kwargs = {'uMode': 'min', 'visualize': True}\n",
    "projDim = [1,0,1,0]\n",
    "data = V\n",
    "tau = np.arange(0, 1.05, 0.05)\n",
    "uMin = [-2,-2]\n",
    "uMax = [2,2]\n",
    "dynSys = DoubleIntegrator2D(uMin, uMax)\n",
    "dynSys.x = np.ones(4) * 0.01"
   ]
  },
  {
   "cell_type": "code",
   "execution_count": 7,
   "metadata": {},
   "outputs": [],
   "source": [
    "?np.flip"
   ]
  },
  {
   "cell_type": "code",
   "execution_count": 6,
   "metadata": {},
   "outputs": [],
   "source": [
    "plt.Circle((0,0), radius= 5)\n"
   ]
  },
  {
   "cell_type": "code",
   "execution_count": 3,
   "metadata": {},
   "outputs": [
    {
     "ename": "KeyboardInterrupt",
     "evalue": "",
     "output_type": "error",
     "traceback": [
      "\u001b[0;31m---------------------------------------------------------------------------\u001b[0m",
      "\u001b[0;31mKeyboardInterrupt\u001b[0m                         Traceback (most recent call last)",
      "\u001b[0;32m<ipython-input-3-8d339678c230>\u001b[0m in \u001b[0;36m<module>\u001b[0;34m\u001b[0m\n\u001b[0;32m----> 1\u001b[0;31m \u001b[0mtraj\u001b[0m\u001b[0;34m,\u001b[0m \u001b[0mtraj_tau\u001b[0m\u001b[0;34m,\u001b[0m \u001b[0mvalues\u001b[0m\u001b[0;34m,\u001b[0m \u001b[0mtEarliest\u001b[0m \u001b[0;34m=\u001b[0m \u001b[0mcomputeOptTraj\u001b[0m\u001b[0;34m(\u001b[0m\u001b[0mg\u001b[0m\u001b[0;34m,\u001b[0m \u001b[0mdata\u001b[0m\u001b[0;34m,\u001b[0m \u001b[0mtau\u001b[0m\u001b[0;34m,\u001b[0m \u001b[0mdynSys\u001b[0m\u001b[0;34m,\u001b[0m \u001b[0mprojDim\u001b[0m\u001b[0;34m,\u001b[0m \u001b[0muMode\u001b[0m\u001b[0;34m=\u001b[0m\u001b[0;34m\"min\"\u001b[0m\u001b[0;34m,\u001b[0m \u001b[0mvisualize\u001b[0m\u001b[0;34m=\u001b[0m\u001b[0;32mTrue\u001b[0m\u001b[0;34m)\u001b[0m\u001b[0;34m\u001b[0m\u001b[0;34m\u001b[0m\u001b[0m\n\u001b[0m",
      "\u001b[0;32m~/projects/stlcg_ctrl_syn/hji/hji_utils.py\u001b[0m in \u001b[0;36mcomputeOptTraj\u001b[0;34m(g, data, tau, dynSys, projDim, **kwargs)\u001b[0m\n\u001b[1;32m    167\u001b[0m         \u001b[0mupper\u001b[0m \u001b[0;34m=\u001b[0m \u001b[0mtauLength\u001b[0m \u001b[0;34m-\u001b[0m \u001b[0;36m1\u001b[0m\u001b[0;34m;\u001b[0m\u001b[0;34m\u001b[0m\u001b[0;34m\u001b[0m\u001b[0m\n\u001b[1;32m    168\u001b[0m         \u001b[0mlower\u001b[0m \u001b[0;34m=\u001b[0m \u001b[0mtEarliest\u001b[0m\u001b[0;34m;\u001b[0m\u001b[0;34m\u001b[0m\u001b[0;34m\u001b[0m\u001b[0m\n\u001b[0;32m--> 169\u001b[0;31m         \u001b[0mtEarliest\u001b[0m \u001b[0;34m=\u001b[0m \u001b[0mfind_earliest_BRS_ind\u001b[0m\u001b[0;34m(\u001b[0m\u001b[0mg\u001b[0m\u001b[0;34m,\u001b[0m \u001b[0mdata\u001b[0m\u001b[0;34m,\u001b[0m \u001b[0mdynSys\u001b[0m\u001b[0;34m.\u001b[0m\u001b[0mx\u001b[0m\u001b[0;34m,\u001b[0m \u001b[0mtau\u001b[0m\u001b[0;34m,\u001b[0m \u001b[0mupper\u001b[0m\u001b[0;34m,\u001b[0m \u001b[0mlower\u001b[0m\u001b[0;34m)\u001b[0m\u001b[0;34m;\u001b[0m\u001b[0;34m\u001b[0m\u001b[0;34m\u001b[0m\u001b[0m\n\u001b[0m\u001b[1;32m    170\u001b[0m         \u001b[0mtEarliestList\u001b[0m\u001b[0;34m.\u001b[0m\u001b[0mappend\u001b[0m\u001b[0;34m(\u001b[0m\u001b[0mtEarliest\u001b[0m\u001b[0;34m)\u001b[0m\u001b[0;34m\u001b[0m\u001b[0;34m\u001b[0m\u001b[0m\n\u001b[1;32m    171\u001b[0m         \u001b[0;31m# BRS at current time\u001b[0m\u001b[0;34m\u001b[0m\u001b[0;34m\u001b[0m\u001b[0;34m\u001b[0m\u001b[0m\n",
      "\u001b[0;32m~/projects/stlcg_ctrl_syn/hji/hji_utils.py\u001b[0m in \u001b[0;36mfind_earliest_BRS_ind\u001b[0;34m(g, data, x, tau, upper, lower)\u001b[0m\n\u001b[1;32m    103\u001b[0m         \u001b[0mtEarliest\u001b[0m \u001b[0;34m=\u001b[0m \u001b[0;34m(\u001b[0m\u001b[0mupper\u001b[0m \u001b[0;34m+\u001b[0m \u001b[0mlower\u001b[0m\u001b[0;34m)\u001b[0m\u001b[0;34m//\u001b[0m\u001b[0;36m2\u001b[0m\u001b[0;34m\u001b[0m\u001b[0;34m\u001b[0m\u001b[0m\n\u001b[1;32m    104\u001b[0m         \u001b[0mp\u001b[0m \u001b[0;34m=\u001b[0m \u001b[0mlist\u001b[0m\u001b[0;34m(\u001b[0m\u001b[0mtorch\u001b[0m\u001b[0;34m.\u001b[0m\u001b[0mtensor\u001b[0m\u001b[0;34m(\u001b[0m\u001b[0mx\u001b[0m\u001b[0;34m)\u001b[0m\u001b[0;34m.\u001b[0m\u001b[0msplit\u001b[0m\u001b[0;34m(\u001b[0m\u001b[0;36m1\u001b[0m\u001b[0;34m,\u001b[0m \u001b[0mdim\u001b[0m\u001b[0;34m=\u001b[0m\u001b[0;34m-\u001b[0m\u001b[0;36m1\u001b[0m\u001b[0;34m)\u001b[0m\u001b[0;34m)\u001b[0m \u001b[0;34m+\u001b[0m \u001b[0;34m[\u001b[0m\u001b[0mtorch\u001b[0m\u001b[0;34m.\u001b[0m\u001b[0mtensor\u001b[0m\u001b[0;34m(\u001b[0m\u001b[0;34m[\u001b[0m\u001b[0mtau\u001b[0m\u001b[0;34m[\u001b[0m\u001b[0mtEarliest\u001b[0m\u001b[0;34m]\u001b[0m\u001b[0;34m]\u001b[0m\u001b[0;34m)\u001b[0m\u001b[0;34m]\u001b[0m\u001b[0;34m\u001b[0m\u001b[0;34m\u001b[0m\u001b[0m\n\u001b[0;32m--> 105\u001b[0;31m         \u001b[0mvalueX\u001b[0m \u001b[0;34m=\u001b[0m \u001b[0mvalue_interp\u001b[0m\u001b[0;34m(\u001b[0m\u001b[0mp\u001b[0m\u001b[0;34m)\u001b[0m\u001b[0;34m\u001b[0m\u001b[0;34m\u001b[0m\u001b[0m\n\u001b[0m\u001b[1;32m    106\u001b[0m         \u001b[0;32mif\u001b[0m \u001b[0mvalueX\u001b[0m \u001b[0;34m<\u001b[0m \u001b[0msmall\u001b[0m\u001b[0;34m:\u001b[0m\u001b[0;34m\u001b[0m\u001b[0;34m\u001b[0m\u001b[0m\n\u001b[1;32m    107\u001b[0m             \u001b[0mlower\u001b[0m \u001b[0;34m=\u001b[0m \u001b[0mtEarliest\u001b[0m\u001b[0;34m\u001b[0m\u001b[0;34m\u001b[0m\u001b[0m\n",
      "\u001b[0;32m~/projects/stlcg_ctrl_syn/ctrl_syn/torch_interpolations/torch_interpolations/multilinear.py\u001b[0m in \u001b[0;36m__call__\u001b[0;34m(self, points_to_interp)\u001b[0m\n\u001b[1;32m     55\u001b[0m             \u001b[0mas_s\u001b[0m \u001b[0;34m=\u001b[0m \u001b[0;34m[\u001b[0m\u001b[0midx\u001b[0m\u001b[0;34m[\u001b[0m\u001b[0monoff\u001b[0m\u001b[0;34m]\u001b[0m \u001b[0;32mfor\u001b[0m \u001b[0monoff\u001b[0m\u001b[0;34m,\u001b[0m \u001b[0midx\u001b[0m \u001b[0;32min\u001b[0m \u001b[0mzip\u001b[0m\u001b[0;34m(\u001b[0m\u001b[0mindexer\u001b[0m\u001b[0;34m,\u001b[0m \u001b[0midxs\u001b[0m\u001b[0;34m)\u001b[0m\u001b[0;34m]\u001b[0m\u001b[0;34m\u001b[0m\u001b[0;34m\u001b[0m\u001b[0m\n\u001b[1;32m     56\u001b[0m             \u001b[0mbs_s\u001b[0m \u001b[0;34m=\u001b[0m \u001b[0;34m[\u001b[0m\u001b[0mdist\u001b[0m\u001b[0;34m[\u001b[0m\u001b[0;36m1\u001b[0m \u001b[0;34m-\u001b[0m \u001b[0monoff\u001b[0m\u001b[0;34m]\u001b[0m \u001b[0;32mfor\u001b[0m \u001b[0monoff\u001b[0m\u001b[0;34m,\u001b[0m \u001b[0mdist\u001b[0m \u001b[0;32min\u001b[0m \u001b[0mzip\u001b[0m\u001b[0;34m(\u001b[0m\u001b[0mindexer\u001b[0m\u001b[0;34m,\u001b[0m \u001b[0mdists\u001b[0m\u001b[0;34m)\u001b[0m\u001b[0;34m]\u001b[0m\u001b[0;34m\u001b[0m\u001b[0;34m\u001b[0m\u001b[0m\n\u001b[0;32m---> 57\u001b[0;31m             \u001b[0mnumerator\u001b[0m \u001b[0;34m+=\u001b[0m \u001b[0mself\u001b[0m\u001b[0;34m.\u001b[0m\u001b[0mvalues\u001b[0m\u001b[0;34m[\u001b[0m\u001b[0mas_s\u001b[0m\u001b[0;34m]\u001b[0m \u001b[0;34m*\u001b[0m\u001b[0;31m \u001b[0m\u001b[0;31m\\\u001b[0m\u001b[0;34m\u001b[0m\u001b[0;34m\u001b[0m\u001b[0m\n\u001b[0m\u001b[1;32m     58\u001b[0m                 \u001b[0mtorch\u001b[0m\u001b[0;34m.\u001b[0m\u001b[0mprod\u001b[0m\u001b[0;34m(\u001b[0m\u001b[0mtorch\u001b[0m\u001b[0;34m.\u001b[0m\u001b[0mstack\u001b[0m\u001b[0;34m(\u001b[0m\u001b[0mbs_s\u001b[0m\u001b[0;34m)\u001b[0m\u001b[0;34m,\u001b[0m \u001b[0mdim\u001b[0m\u001b[0;34m=\u001b[0m\u001b[0;36m0\u001b[0m\u001b[0;34m)\u001b[0m\u001b[0;34m\u001b[0m\u001b[0;34m\u001b[0m\u001b[0m\n\u001b[1;32m     59\u001b[0m         \u001b[0mdenominator\u001b[0m \u001b[0;34m=\u001b[0m \u001b[0mtorch\u001b[0m\u001b[0;34m.\u001b[0m\u001b[0mprod\u001b[0m\u001b[0;34m(\u001b[0m\u001b[0mtorch\u001b[0m\u001b[0;34m.\u001b[0m\u001b[0mstack\u001b[0m\u001b[0;34m(\u001b[0m\u001b[0moveralls\u001b[0m\u001b[0;34m)\u001b[0m\u001b[0;34m,\u001b[0m \u001b[0mdim\u001b[0m\u001b[0;34m=\u001b[0m\u001b[0;36m0\u001b[0m\u001b[0;34m)\u001b[0m\u001b[0;34m\u001b[0m\u001b[0;34m\u001b[0m\u001b[0m\n",
      "\u001b[0;31mKeyboardInterrupt\u001b[0m: "
     ]
    },
    {
     "data": {
      "image/png": "[encoded data removed]",
      "text/plain": [
       "<Figure size 720x720 with 1 Axes>"
      ]
     },
     "metadata": {
      "needs_background": "light"
     },
     "output_type": "display_data"
    }
   ],
   "source": [
    "traj, traj_tau, values, tEarliest = computeOptTraj(g, data, tau, dynSys, projDim, uMode=\"min\", visualize=True)"
   ]
  },
  {
   "cell_type": "code",
   "execution_count": 30,
   "metadata": {},
   "outputs": [],
   "source": [
    "lower = 0\n",
    "upper = len(tau) - 1\n",
    "def find_earliest_BRS_ind(g, data, x, upper, lower):\n",
    "    clns = [len(g)] + [i for i in range(len(g))]\n",
    "    small = 1E-4\n",
    "    x = np.array([0, 0, 0, 0])\n",
    "    while upper > lower:\n",
    "        tEarliest = int(np.ceil((upper + lower)/2))\n",
    "        p = list(torch.tensor(x).split(1, dim=-1)) + [torch.tensor([tau[tEarliest]])]\n",
    "        valueX = value_interp(p)\n",
    "        if valueX < small:\n",
    "            lower = tEarliest\n",
    "        else:\n",
    "            upper = tEarliest - 1\n",
    "\n",
    "    return upper"
   ]
  },
  {
   "cell_type": "code",
   "execution_count": 6,
   "metadata": {},
   "outputs": [],
   "source": [
    "p = list(torch.tensor(dynSys.x).split(1, dim=-1)) + [torch.tensor([tau[tEarliest]])]\n"
   ]
  },
  {
   "cell_type": "code",
   "execution_count": 9,
   "metadata": {},
   "outputs": [
    {
     "data": {
      "text/plain": [
       "[-0.06734481410834253,\n",
       " -0.009773078528750012,\n",
       " -0.02302372831524153,\n",
       " -0.0010603161512305944,\n",
       " -0.021485887510827067]"
      ]
     },
     "execution_count": 9,
     "metadata": {},
     "output_type": "execute_result"
    }
   ],
   "source": [
    "dVt = compute_gradients(p, deriv_interp)    # [∇V , dV/dt]\n",
    "dVt"
   ]
  },
  {
   "cell_type": "code",
   "execution_count": 5,
   "metadata": {},
   "outputs": [],
   "source": [
    "class DynSys(object):\n",
    "    def __init__(self):\n",
    "        self.x = None\n",
    "\n",
    "    def dynamics(self, x, u, d, dt):\n",
    "        raise \n",
    "\n",
    "    def OptCtrl(self, t, x, deriv, uMode):\n",
    "        raise NotImplementedError\n",
    "\n",
    "    def OptDstb(self, t, x, deriv, dMode):\n",
    "        raise NotImplementedError\n",
    "\n",
    "    def updateState(self, u, dtSmall, x):\n",
    "        raise NotImplementedError\n",
    "\n",
    "\n",
    "\n",
    "class DoubleIntegrator2D(DynSys):\n",
    "    def __init__(self):\n",
    "        super().__init__()\n",
    "        self.A = np.eye(4)\n",
    "        self.B = np.zeros([4,2])\n",
    "\n",
    "    def dynamics(self, x, u, d, dt):\n",
    "        if type(x) == list:\n",
    "            x = np.array(x)\n",
    "        if type(u) == list:\n",
    "            u = np.array(u)\n",
    "        # if type(d) == list:\n",
    "        #     d = np.array(d)\n",
    "        self.A[0,1] = dt\n",
    "        self.A[2,3] = dt\n",
    "        self.B[1,0] = dt\n",
    "        self.B[3,1] = dt\n",
    "\n",
    "        return self.A @ x + self.B @ u\n"
   ]
  },
  {
   "cell_type": "code",
   "execution_count": 7,
   "metadata": {},
   "outputs": [],
   "source": [
    "dynSys = DoubleIntegrator2D()\n",
    "dynSys.x = np.ones(4) * 0.01"
   ]
  },
  {
   "cell_type": "code",
   "execution_count": 49,
   "metadata": {},
   "outputs": [
    {
     "data": {
      "text/plain": [
       "array([0.0105, 0.06  , 0.0105, 0.06  ])"
      ]
     },
     "execution_count": 49,
     "metadata": {},
     "output_type": "execute_result"
    }
   ],
   "source": [
    "dynSys.dynamics(dynSys.x, [1,1], None, 0.05)"
   ]
  },
  {
   "cell_type": "code",
   "execution_count": 46,
   "metadata": {},
   "outputs": [
    {
     "data": {
      "text/plain": [
       "array([0.0105, 0.01  , 0.0105, 0.01  ])"
      ]
     },
     "execution_count": 46,
     "metadata": {},
     "output_type": "execute_result"
    }
   ],
   "source": [
    "dynSys.A @ dynSys.x"
   ]
  },
  {
   "cell_type": "code",
   "execution_count": 13,
   "metadata": {},
   "outputs": [],
   "source": [
    "def compute_gradients(p, deriv_interp):\n",
    "    return [di(p).squeeze().numpy().item() for di in deriv_interp]"
   ]
  },
  {
   "cell_type": "code",
   "execution_count": 15,
   "metadata": {},
   "outputs": [],
   "source": [
    "dV = compute_gradients(p, deriv_interp)"
   ]
  },
  {
   "cell_type": "code",
   "execution_count": 17,
   "metadata": {},
   "outputs": [
    {
     "data": {
      "text/plain": [
       "-0.009773078528750012"
      ]
     },
     "execution_count": 17,
     "metadata": {},
     "output_type": "execute_result"
    }
   ],
   "source": [
    "if uMode == \"max\":\n",
    "    (dV[1] >= 0) * self.uMax[0] + (dV[1] < 0) * self.uMin[0]\n",
    "    (dV[3] >= 0) * self.uMax[1] + (dV[3] < 0) * self.uMin[1]\n",
    "elif uMode == \"min\":\n",
    "    (dV[1] <= 0) * self.uMax[0] + (dV[1] > 0) * self.uMin[0]\n",
    "    (dV[3] <= 0) * self.uMax[1] + (dV[3] > 0) * self.uMin[1]"
   ]
  },
  {
   "cell_type": "code",
   "execution_count": 188,
   "metadata": {},
   "outputs": [
    {
     "data": {
      "text/plain": [
       "array([0.01, 0.01])"
      ]
     },
     "execution_count": 188,
     "metadata": {},
     "output_type": "execute_result"
    }
   ],
   "source": [
    "np.stack(traj)[:,0]"
   ]
  },
  {
   "cell_type": "code",
   "execution_count": 4,
   "metadata": {},
   "outputs": [
    {
     "name": "stdout",
     "output_type": "stream",
     "text": [
      "poop\n",
      "In [1]: exit\n",
      "\n"
     ]
    },
    {
     "ename": "ValueError",
     "evalue": "only one element tensors can be converted to Python scalars",
     "output_type": "error",
     "traceback": [
      "\u001b[0;31m---------------------------------------------------------------------------\u001b[0m",
      "\u001b[0;31mValueError\u001b[0m                                Traceback (most recent call last)",
      "\u001b[0;32m<ipython-input-4-cabc286e28e1>\u001b[0m in \u001b[0;36m<module>\u001b[0;34m\u001b[0m\n\u001b[1;32m     81\u001b[0m     \u001b[0mdVt\u001b[0m \u001b[0;34m=\u001b[0m \u001b[0mcompute_gradients\u001b[0m\u001b[0;34m(\u001b[0m\u001b[0mp\u001b[0m\u001b[0;34m,\u001b[0m \u001b[0mderiv_interp\u001b[0m\u001b[0;34m)\u001b[0m    \u001b[0;31m# [∇V , dV/dt]\u001b[0m\u001b[0;34m\u001b[0m\u001b[0;34m\u001b[0m\u001b[0m\n\u001b[1;32m     82\u001b[0m     \u001b[0;32mfor\u001b[0m \u001b[0mj\u001b[0m \u001b[0;32min\u001b[0m \u001b[0mrange\u001b[0m\u001b[0;34m(\u001b[0m\u001b[0msubSamples\u001b[0m\u001b[0;34m)\u001b[0m\u001b[0;34m:\u001b[0m\u001b[0;34m\u001b[0m\u001b[0;34m\u001b[0m\u001b[0m\n\u001b[0;32m---> 83\u001b[0;31m         \u001b[0mu\u001b[0m \u001b[0;34m=\u001b[0m \u001b[0mdynSys\u001b[0m\u001b[0;34m.\u001b[0m\u001b[0moptCtrl\u001b[0m\u001b[0;34m(\u001b[0m\u001b[0mtau\u001b[0m\u001b[0;34m[\u001b[0m\u001b[0mtEarliest\u001b[0m\u001b[0;34m]\u001b[0m\u001b[0;34m,\u001b[0m \u001b[0mdynSys\u001b[0m\u001b[0;34m.\u001b[0m\u001b[0mx\u001b[0m\u001b[0;34m,\u001b[0m \u001b[0mdVt\u001b[0m\u001b[0;34m,\u001b[0m \u001b[0muMode\u001b[0m\u001b[0;34m)\u001b[0m\u001b[0;34m\u001b[0m\u001b[0;34m\u001b[0m\u001b[0m\n\u001b[0m\u001b[1;32m     84\u001b[0m         \u001b[0mdynSys\u001b[0m\u001b[0;34m.\u001b[0m\u001b[0mupdateState\u001b[0m\u001b[0;34m(\u001b[0m\u001b[0mu\u001b[0m\u001b[0;34m,\u001b[0m \u001b[0mdtSmall\u001b[0m\u001b[0;34m,\u001b[0m \u001b[0mdynSys\u001b[0m\u001b[0;34m.\u001b[0m\u001b[0mx\u001b[0m\u001b[0;34m)\u001b[0m\u001b[0;34m\u001b[0m\u001b[0;34m\u001b[0m\u001b[0m\n\u001b[1;32m     85\u001b[0m \u001b[0;34m\u001b[0m\u001b[0m\n",
      "\u001b[0;32m~/projects/stlcg_ctrl_syn/hji/hji_utils.py\u001b[0m in \u001b[0;36moptCtrl\u001b[0;34m(self, t, x, deriv, uMode)\u001b[0m\n\u001b[1;32m     69\u001b[0m             \u001b[0muOpt\u001b[0m\u001b[0;34m[\u001b[0m\u001b[0;36m1\u001b[0m\u001b[0;34m]\u001b[0m \u001b[0;34m=\u001b[0m \u001b[0;34m(\u001b[0m\u001b[0mdV\u001b[0m\u001b[0;34m[\u001b[0m\u001b[0;36m3\u001b[0m\u001b[0;34m]\u001b[0m \u001b[0;34m>=\u001b[0m \u001b[0;36m0\u001b[0m\u001b[0;34m)\u001b[0m \u001b[0;34m*\u001b[0m \u001b[0mself\u001b[0m\u001b[0;34m.\u001b[0m\u001b[0muMax\u001b[0m\u001b[0;34m[\u001b[0m\u001b[0;36m1\u001b[0m\u001b[0;34m]\u001b[0m \u001b[0;34m+\u001b[0m \u001b[0;34m(\u001b[0m\u001b[0mdV\u001b[0m\u001b[0;34m[\u001b[0m\u001b[0;36m3\u001b[0m\u001b[0;34m]\u001b[0m \u001b[0;34m<\u001b[0m \u001b[0;36m0\u001b[0m\u001b[0;34m)\u001b[0m \u001b[0;34m*\u001b[0m \u001b[0mself\u001b[0m\u001b[0;34m.\u001b[0m\u001b[0muMin\u001b[0m\u001b[0;34m[\u001b[0m\u001b[0;36m1\u001b[0m\u001b[0;34m]\u001b[0m\u001b[0;34m\u001b[0m\u001b[0;34m\u001b[0m\u001b[0m\n\u001b[1;32m     70\u001b[0m         \u001b[0;32melif\u001b[0m \u001b[0muMode\u001b[0m \u001b[0;34m==\u001b[0m \u001b[0;34m\"min\"\u001b[0m\u001b[0;34m:\u001b[0m\u001b[0;34m\u001b[0m\u001b[0;34m\u001b[0m\u001b[0m\n\u001b[0;32m---> 71\u001b[0;31m             \u001b[0muOpt\u001b[0m\u001b[0;34m[\u001b[0m\u001b[0;36m0\u001b[0m\u001b[0;34m]\u001b[0m \u001b[0;34m=\u001b[0m \u001b[0;34m(\u001b[0m\u001b[0mdV\u001b[0m\u001b[0;34m[\u001b[0m\u001b[0;36m1\u001b[0m\u001b[0;34m]\u001b[0m \u001b[0;34m<=\u001b[0m \u001b[0;36m0\u001b[0m\u001b[0;34m)\u001b[0m \u001b[0;34m*\u001b[0m \u001b[0mself\u001b[0m\u001b[0;34m.\u001b[0m\u001b[0muMax\u001b[0m\u001b[0;34m[\u001b[0m\u001b[0;36m0\u001b[0m\u001b[0;34m]\u001b[0m \u001b[0;34m+\u001b[0m \u001b[0;34m(\u001b[0m\u001b[0mdV\u001b[0m\u001b[0;34m[\u001b[0m\u001b[0;36m1\u001b[0m\u001b[0;34m]\u001b[0m \u001b[0;34m>\u001b[0m \u001b[0;36m0\u001b[0m\u001b[0;34m)\u001b[0m \u001b[0;34m*\u001b[0m \u001b[0mself\u001b[0m\u001b[0;34m.\u001b[0m\u001b[0muMin\u001b[0m\u001b[0;34m[\u001b[0m\u001b[0;36m0\u001b[0m\u001b[0;34m]\u001b[0m\u001b[0;34m\u001b[0m\u001b[0;34m\u001b[0m\u001b[0m\n\u001b[0m\u001b[1;32m     72\u001b[0m             \u001b[0muOpt\u001b[0m\u001b[0;34m[\u001b[0m\u001b[0;36m1\u001b[0m\u001b[0;34m]\u001b[0m \u001b[0;34m=\u001b[0m \u001b[0;34m(\u001b[0m\u001b[0mdV\u001b[0m\u001b[0;34m[\u001b[0m\u001b[0;36m3\u001b[0m\u001b[0;34m]\u001b[0m \u001b[0;34m<=\u001b[0m \u001b[0;36m0\u001b[0m\u001b[0;34m)\u001b[0m \u001b[0;34m*\u001b[0m \u001b[0mself\u001b[0m\u001b[0;34m.\u001b[0m\u001b[0muMax\u001b[0m\u001b[0;34m[\u001b[0m\u001b[0;36m1\u001b[0m\u001b[0;34m]\u001b[0m \u001b[0;34m+\u001b[0m \u001b[0;34m(\u001b[0m\u001b[0mdV\u001b[0m\u001b[0;34m[\u001b[0m\u001b[0;36m3\u001b[0m\u001b[0;34m]\u001b[0m \u001b[0;34m>\u001b[0m \u001b[0;36m0\u001b[0m\u001b[0;34m)\u001b[0m \u001b[0;34m*\u001b[0m \u001b[0mself\u001b[0m\u001b[0;34m.\u001b[0m\u001b[0muMin\u001b[0m\u001b[0;34m[\u001b[0m\u001b[0;36m1\u001b[0m\u001b[0;34m]\u001b[0m\u001b[0;34m\u001b[0m\u001b[0;34m\u001b[0m\u001b[0m\n\u001b[1;32m     73\u001b[0m         \u001b[0;32mreturn\u001b[0m \u001b[0muOpt\u001b[0m\u001b[0;34m\u001b[0m\u001b[0;34m\u001b[0m\u001b[0m\n",
      "\u001b[0;31mValueError\u001b[0m: only one element tensors can be converted to Python scalars"
     ]
    },
    {
     "data": {
      "image/png": "[encoded data removed]",
      "text/plain": [
       "<Figure size 720x720 with 1 Axes>"
      ]
     },
     "metadata": {
      "needs_background": "light"
     },
     "output_type": "display_data"
    }
   ],
   "source": [
    "\n",
    "\n",
    "# def computeOptTraj(g, data, tau, dynSyS, **kwargs):\n",
    "# Default parameters\n",
    "uMode = 'min';\n",
    "visualize = False;\n",
    "subSamples = 4;\n",
    "keys = kwargs.keys()\n",
    "\n",
    "if 'uMode' in keys:\n",
    "    uMode = kwargs['uMode']\n",
    "\n",
    "\n",
    "# Visualization\n",
    "if ('visualize' in keys) & (kwargs[\"visualize\"] == True):\n",
    "    visualize = kwargs['visualize']\n",
    "\n",
    "if type(projDim) == list:\n",
    "    projDim = np.array(projDim)\n",
    "\n",
    "showDims = np.where(projDim)[0]\n",
    "hideDims = np.where(1 - projDim)[0];\n",
    "\n",
    "if 'fig' in keys:\n",
    "    f, ax = kwargs['fig']\n",
    "else:\n",
    "    f, ax = plt.subplots(figsize=(10,10))\n",
    "\n",
    "\n",
    "if 'subSamples' in keys:\n",
    "    subSamples = kwargs['subSamples']\n",
    "\n",
    "clns = [len(g)] + [i for i in range(len(g))]\n",
    "\n",
    "\n",
    "if any(np.diff(tau)) < 0:\n",
    "    raise Exception('Time stamps must be in ascending order!')\n",
    "\n",
    "\n",
    "\n",
    "# Time parameters\n",
    "it = 1;\n",
    "tauLength = len(tau);\n",
    "dtSmall = (tau[1] - tau[0]) / subSamples\n",
    "\n",
    "# Initialize trajectory\n",
    "traj = []\n",
    "values = []\n",
    "tEarliestList = []\n",
    "traj.append(dynSys.x);\n",
    "tEarliest = 0;\n",
    "\n",
    "while it <= tauLength:\n",
    "    # Determine the earliest time that the current state is in the reachable set\n",
    "    # Binary search\n",
    "    upper = tauLength - 1;\n",
    "    lower = tEarliest;\n",
    "#     tEarliest = find_earliest_BRS_ind(g, data, dynSys.x, upper, lower);\n",
    "    tEarliest = 4\n",
    "    tEarliestList.append(tEarliest)\n",
    "    # BRS at current time\n",
    "    BRS_at_t = np.transpose(data, clns)[tEarliest]\n",
    "    p = list(torch.tensor(dynSys.x).split(1, dim=-1)) + [torch.tensor([tau[tEarliest]])]\n",
    "    values.append(value_interp(p).squeeze().numpy().item())\n",
    "    # Visualize BRS corresponding to current trajectory point\n",
    "    if visualize:\n",
    "        traj_flatten = np.stack(traj)\n",
    "        ax.plot(traj_flatten[1:it, showDims[0]], traj_flatten[1:it, showDims[1]], 'k')\n",
    "        g2D, data2D = proj(g, traj[-1], value_interp, showDims, hideDims, tau, tEarliest)\n",
    "        ax.contourf(*g2D, data2D, np.arange(0,5,0.5))\n",
    "        ax.set_title('t = %.3f; tEarliest = %.3f'%(tau[it], tau[tEarliest]))\n",
    "\n",
    "    if 'fig_filename' in keys:\n",
    "      f.savefig(kwargs['fig_filename'] + \"_{:02d}.png\".format(it))\n",
    "\n",
    "\n",
    "\n",
    "    if tEarliest == tauLength:\n",
    "    # Trajectory has entered the target\n",
    "        break\n",
    "\n",
    "    # Update trajectory\n",
    "    dVt = compute_gradients(p, deriv_interp)    # [∇V , dV/dt]\n",
    "    for j in range(subSamples):\n",
    "        u = dynSys.optCtrl(tau[tEarliest], dynSys.x, dVt, uMode)\n",
    "        dynSys.updateState(u, dtSmall, dynSys.x)\n",
    "\n",
    "    # Record new point on nominal trajectory\n",
    "    it = it + 1;\n",
    "    traj.append(dynSys.x)\n",
    "\n",
    "# Delete unused indices\n",
    "traj_tau = tau[:it];\n",
    "\n",
    "#     return traj, traj_tau, values, tEarliest"
   ]
  },
  {
   "cell_type": "code",
   "execution_count": null,
   "metadata": {},
   "outputs": [],
   "source": []
  }
 ],
 "metadata": {
  "@webio": {
   "lastCommId": null,
   "lastKernelId": null
  },
  "kernelspec": {
   "display_name": "Python 3.7 (ctrl_syn)",
   "language": "python",
   "name": "ctrl_syn_env"
  },
  "language_info": {
   "codemirror_mode": {
    "name": "ipython",
    "version": 3
   },
   "file_extension": ".py",
   "mimetype": "text/x-python",
   "name": "python",
   "nbconvert_exporter": "python",
   "pygments_lexer": "ipython3",
   "version": "3.7.8"
  }
 },
 "nbformat": 4,
 "nbformat_minor": 4
}
